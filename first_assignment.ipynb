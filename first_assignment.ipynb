{
 "cells": [
  {
   "cell_type": "code",
   "execution_count": null,
   "id": "87ac35a3-63ef-41b9-b497-d1e2ea06b893",
   "metadata": {},
   "outputs": [],
   "source": [
    "1.Explain the key features of Python that make it a popular choice for programming."
   ]
  },
  {
   "cell_type": "code",
   "execution_count": null,
   "id": "0a179799-fd6d-41ef-b445-ad7dca33d079",
   "metadata": {},
   "outputs": [],
   "source": [
    "python has become one of the most popular programming language due to several key  features that make it highly attractive\n",
    "for both beginners and experienced developers. Here are some of the most important features:\n",
    "1. Simple and Readable Syntax\n",
    "Easy to Learn: Python is known for its clean, readable syntax, which allows developers to write clear and concise code.\n",
    "This makes Python an ideal language for beginners.\n",
    "English-like Syntax: The syntax closely resembles English, reducing the learning curve and making the code more intuitive to understand\n",
    "2. Versatile and Cross-Platform\n",
    "Platform Independence: Python is cross-platform, meaning Python programs can run on Windows, macOS, and Linux without modification.\n",
    "The same Python code can execute on different platforms.\n",
    "Wide Range of Applications: Python can be used for web development, data analysis, machine learning, artificial intelligence, \n",
    "automation, desktop applications, and more.\n",
    "3.Interpreted Language\n",
    "Interactive Development: Python code can be executed interactively in an interpreter, allowing for quick testing and prototyping.\n",
    "This makes it great for rapid development and experimentation.\n",
    "Cross-Platform: The interpreted nature of Python also means that code can be run on different platforms without needing to recompile.\n"
   ]
  },
  {
   "cell_type": "code",
   "execution_count": null,
   "id": "e27e224f-bf56-4b67-af19-d3e72f372d90",
   "metadata": {},
   "outputs": [],
   "source": [
    "2. Describe the role of predefined keywords in Python and provide examples of how they are used in a program."
   ]
  },
  {
   "cell_type": "code",
   "execution_count": null,
   "id": "232a091a-924c-46b5-92fe-7323774660f4",
   "metadata": {},
   "outputs": [],
   "source": [
    "In Python, predefined keywords (also known as reserved words) are special words that have a specific meaning to the Python interpreter.\n",
    "These keywords cannot be used as identifiers (like variable names, function names, or class names) because they are reserved for defining the\n",
    "syntax and structure of the Python language.\n",
    "\n",
    "The role of these keywords is to define the control flow, data types, function definitions, and other core functionalities within the language.\n",
    "Python provides a set of keywords that perform essential functions like looping, condition checking, defining classes and functions, \n",
    "and controlling program flow.\n",
    "\n",
    "As of Python , there are 35 predefined keywords. Some of these keywords are fundamental to Python, such as if, else, for, while, def,\n",
    "return, class, and import. They help in structuring a program and providing logical flow and definitions.\n",
    "\n",
    "#List of Common Python Keywords:\n",
    "Here are a few important predefined keywords in Python:\n",
    "\n",
    "False, True: Boolean values.\n",
    "None: Represents the absence of a value or a null value.\n",
    "if, elif, else: Used for conditional operator.\n",
    "while, for: Loops.\n",
    "break, continue: Control flow in loops.\n",
    "def: Used to define a function.\n",
    "return: Used to return a value from a function.\n",
    "class: Used to define a class.\n",
    "try, except, finally: Used for exception handling.\n",
    "import, from: Used for importing modules and specific elements from them.\n",
    "and, or, not: Logical operators.\n",
    "is: Used for identity comparison.\n",
    "in: Used for membership testing.\n",
    "global, nonlocal: Used to declare global or nonlocal variables.\n",
    "pass: A placeholder for code that does nothing.\n",
    "assert: Used for debugging purposes to test conditions.\n",
    "yield: Used in generator functions."
   ]
  },
  {
   "cell_type": "code",
   "execution_count": 21,
   "id": "0f9735ee-ad21-4d8c-8c4d-d4e1f46a3564",
   "metadata": {},
   "outputs": [
    {
     "name": "stdout",
     "output_type": "stream",
     "text": [
      "1 is Odd\n",
      "2 is Even\n",
      "3 is Odd\n",
      "4 is Even\n",
      "5 is Odd\n",
      "6 is Even\n",
      "7 is Odd\n",
      "8 is Even\n",
      "9 is Odd\n",
      "10 is Even\n"
     ]
    }
   ],
   "source": [
    "#loop\n",
    "for num in range(1, 11):\n",
    "    if num % 2 == 0:  # Check if the number is even\n",
    "        print(f\"{num} is Even\")\n",
    "    else:\n",
    "        print(f\"{num} is Odd\")"
   ]
  },
  {
   "cell_type": "code",
   "execution_count": null,
   "id": "11dfc1d2-ced4-468b-afcd-528b49563388",
   "metadata": {},
   "outputs": [],
   "source": [
    "3.Compare and contrast mutable and immutable objects in Python with examples."
   ]
  },
  {
   "cell_type": "code",
   "execution_count": null,
   "id": "3dc88cd3-c1e5-44cb-81c2-e106b5125afd",
   "metadata": {},
   "outputs": [],
   "source": [
    "In Python, mutable and immutable objects differ in whether their content can be modified after they are created.\n",
    "\n",
    "Mutable objects:\n",
    "Mutable objects are those whose content can be changed after creation. This means you can modify, add, or delete elements \n",
    "or attributes of these objects.\n",
    "\n",
    "Examples of mutable objects:\n",
    "Lists\n",
    "Dictionaries\n",
    "Sets\n",
    "\n",
    "Immutable Objects:\n",
    "Immutable objects are those whose content cannot be changed after creation. Once an immutable object is created, its state is fixed\n",
    "and cannot be modified.\n",
    "\n",
    "Examples of immutable objects:\n",
    "Strings\n",
    "Tuples\n",
    "Integers\n",
    "Floats\n",
    "Frozen sets"
   ]
  },
  {
   "cell_type": "code",
   "execution_count": null,
   "id": "e7547c79-c8bf-435d-bd97-96f2fea91eeb",
   "metadata": {},
   "outputs": [],
   "source": [
    "4. Discuss the different types of operators in Python and provide examples of how they are used."
   ]
  },
  {
   "cell_type": "code",
   "execution_count": null,
   "id": "c9dc9b86-8313-4e9f-a751-887d32a21ade",
   "metadata": {},
   "outputs": [],
   "source": [
    "Python supports a wide variety of operators that are used to perform various operations on variables and values.\n",
    "Operators in Python can be classified into several categories based on their functionality. Below is an overview of the different types of\n",
    "operators in Python along with examples of how they are used:\n",
    "1. Arithmetic Operators\n",
    "These operators are used to perform mathematical operations.\n",
    "+,-,*,/,%\n",
    "2. Comparison (Relational) Operators\n",
    "These operators are used to compare two values and return a boolean result (True or False).\n",
    "==,>,<,>=,<=\n",
    "3. Logical Operators\n",
    "Logical operators are used to combine conditional statements.\n",
    "and,or,not\n",
    "4. Assignment Operators\n",
    "Assignment operators are used to assign values to variables.\n",
    "=,+=\n"
   ]
  },
  {
   "cell_type": "code",
   "execution_count": 22,
   "id": "c9f4cf83-0169-4754-861c-2a4fd3812a28",
   "metadata": {},
   "outputs": [
    {
     "name": "stdout",
     "output_type": "stream",
     "text": [
      "13\n"
     ]
    }
   ],
   "source": [
    "#Arithmetic Operators\n",
    "a = 10\n",
    "b = 3\n",
    "\n",
    "print(a + b) "
   ]
  },
  {
   "cell_type": "code",
   "execution_count": 23,
   "id": "c2efb853-7804-4ce5-8264-358faf67c9a2",
   "metadata": {},
   "outputs": [
    {
     "name": "stdout",
     "output_type": "stream",
     "text": [
      "False\n"
     ]
    }
   ],
   "source": [
    "#Comparison  Operators \n",
    "a = 10\n",
    "b = 5\n",
    "\n",
    "print(a == b)"
   ]
  },
  {
   "cell_type": "code",
   "execution_count": 24,
   "id": "2dd9725e-a548-43eb-ad96-679d73975908",
   "metadata": {},
   "outputs": [
    {
     "name": "stdout",
     "output_type": "stream",
     "text": [
      "False\n"
     ]
    }
   ],
   "source": [
    "#Logical Operators\n",
    "a = True\n",
    "b = False\n",
    "\n",
    "print(a and b)"
   ]
  },
  {
   "cell_type": "code",
   "execution_count": null,
   "id": "ab0245b3-8be2-4b95-91aa-f40c071c171a",
   "metadata": {},
   "outputs": [],
   "source": [
    "5.Explain the concept of type casting in Python with examples."
   ]
  },
  {
   "cell_type": "code",
   "execution_count": null,
   "id": "37f519d0-6316-45d0-a299-5ac32601562e",
   "metadata": {},
   "outputs": [],
   "source": [
    "Type Casting in Python\n",
    "Type casting in Python refers to the process of converting one data type into another. This can be done explicitly  or implicitly \n",
    "Python provides built-in functions to facilitate explicit type casting.\n",
    "\n",
    "1. Implicit Type Conversion (Automatic Type Conversion)\n",
    "Python performs implicit type conversion automatically when you operate on mixed data types.\n",
    "For example, when an operation involves an integer and a float, Python will convert the integer to a float to ensure the operation proceeds."
   ]
  },
  {
   "cell_type": "code",
   "execution_count": 25,
   "id": "d1a4f9ac-b0b2-4dc6-92f8-a81cb79faa26",
   "metadata": {},
   "outputs": [
    {
     "name": "stdout",
     "output_type": "stream",
     "text": [
      "8.2\n"
     ]
    }
   ],
   "source": [
    "# Implicit type conversion\n",
    "x = 5    # integer\n",
    "y = 3.2  # float\n",
    "result = x + y\n",
    "print(result)"
   ]
  },
  {
   "cell_type": "code",
   "execution_count": null,
   "id": "e71e1754-d3ec-4429-badd-10507da94635",
   "metadata": {},
   "outputs": [],
   "source": [
    "Explicit Type Conversion (Type Casting)\n",
    "Explicit type conversion occurs when you explicitly change one data type into another using functions like int(), float(), str(), etc.\n",
    "\n",
    "Common Type Casting Functions:\n",
    "int(): Converts a value to an integer.\n",
    "float(): Converts a value to a float.\n",
    "str(): Converts a value to a string."
   ]
  },
  {
   "cell_type": "code",
   "execution_count": 26,
   "id": "81e651fa-d928-46b9-9cca-1a7b11b4714b",
   "metadata": {},
   "outputs": [
    {
     "name": "stdout",
     "output_type": "stream",
     "text": [
      "5\n"
     ]
    }
   ],
   "source": [
    "#converting a float to an integer\n",
    "x = 5.7\n",
    "y = int(x)  \n",
    "print(y) "
   ]
  },
  {
   "cell_type": "code",
   "execution_count": 27,
   "id": "716fff7f-5b46-4c92-a1c2-2eda1c7d26a0",
   "metadata": {},
   "outputs": [
    {
     "name": "stdout",
     "output_type": "stream",
     "text": [
      "10.0\n"
     ]
    }
   ],
   "source": [
    "#Converting an integer to a float\n",
    "x = 10\n",
    "y = float(x)  \n",
    "print(y)  "
   ]
  },
  {
   "cell_type": "code",
   "execution_count": null,
   "id": "312e9ad1-3c86-4ce7-8bfa-98460c7263bf",
   "metadata": {},
   "outputs": [],
   "source": [
    "6.How do conditional statements work in Python? Illustrate with examples."
   ]
  },
  {
   "cell_type": "code",
   "execution_count": null,
   "id": "042d0f90-6bda-4491-b131-d683689017a6",
   "metadata": {},
   "outputs": [],
   "source": [
    "Conditional Statements in Python\n",
    "Conditional statements in Python allow you to execute certain blocks of code based on whether a given condition is True or False.\n",
    "The basic conditional statements in Python are if, elif, and else."
   ]
  },
  {
   "cell_type": "code",
   "execution_count": null,
   "id": "6411f917-ae58-44cb-837a-b1a427decb60",
   "metadata": {},
   "outputs": [],
   "source": [
    "1. if Statement\n",
    "The if statement is used to check a condition and execute a block of code if the condition evaluates to True."
   ]
  },
  {
   "cell_type": "code",
   "execution_count": 28,
   "id": "e7e53315-b8eb-41b9-b472-7694ea90b8d0",
   "metadata": {},
   "outputs": [
    {
     "name": "stdout",
     "output_type": "stream",
     "text": [
      "You are eligible to vote.\n"
     ]
    }
   ],
   "source": [
    "# Simple if statement\n",
    "age = 18\n",
    "if age >= 18:\n",
    "    print(\"You are eligible to vote.\")\n"
   ]
  },
  {
   "cell_type": "code",
   "execution_count": null,
   "id": "33e76a05-56e0-49ec-97a4-ae1ec8eeb286",
   "metadata": {},
   "outputs": [],
   "source": [
    "2. if-else Statement\n",
    "The else statement can be used to define a block of code that will execute when the if condition is False."
   ]
  },
  {
   "cell_type": "code",
   "execution_count": 29,
   "id": "be53588a-206f-41df-8cac-3a47cdeb3a99",
   "metadata": {},
   "outputs": [
    {
     "name": "stdout",
     "output_type": "stream",
     "text": [
      "You are not eligible to vote.\n"
     ]
    }
   ],
   "source": [
    "# if-else statement\n",
    "age = 16\n",
    "if age >= 18:\n",
    "    print(\"You are eligible to vote.\")\n",
    "else:\n",
    "    print(\"You are not eligible to vote.\")\n"
   ]
  },
  {
   "cell_type": "code",
   "execution_count": null,
   "id": "19d07ffe-e57f-4744-be74-eb49dd883110",
   "metadata": {},
   "outputs": [],
   "source": [
    "3. if-elif-else Statement\n",
    "The elif (short for \"else if\") statement is used to check multiple conditions. You can have multiple elif blocks between an if and else to check for more than two conditions."
   ]
  },
  {
   "cell_type": "code",
   "execution_count": 30,
   "id": "24a1225d-9704-4c40-b4cb-e9c010a35fbc",
   "metadata": {},
   "outputs": [
    {
     "name": "stdout",
     "output_type": "stream",
     "text": [
      "Start of the week!\n"
     ]
    }
   ],
   "source": [
    "# if-elif-else statement\n",
    "day = \"Monday\"\n",
    "\n",
    "if day == \"Monday\":\n",
    "    print(\"Start of the week!\")\n",
    "elif day == \"Wednesday\":\n",
    "    print(\"Midweek!\")\n",
    "elif day == \"Friday\":\n",
    "    print(\"Weekend is near!\")\n",
    "else:\n",
    "    print(\"Another day!\")\n"
   ]
  },
  {
   "cell_type": "code",
   "execution_count": null,
   "id": "13bb628c-34fa-45e7-86db-2141fb4a0fe5",
   "metadata": {},
   "outputs": [],
   "source": [
    "7.Describe the different types of loops in Python and their use cases with examples."
   ]
  },
  {
   "cell_type": "code",
   "execution_count": null,
   "id": "c581b7cb-b714-41bb-a185-9c91f5354119",
   "metadata": {},
   "outputs": [],
   "source": [
    "\n",
    "In Python, there are three main types of loops: for loops, while loops, and nested loops. Each loop type is useful in different situations depending on the task at hand. Let's go over each one with explanations and examples:"
   ]
  },
  {
   "cell_type": "code",
   "execution_count": null,
   "id": "028f5d67-adab-496d-b465-8a1c811ce929",
   "metadata": {},
   "outputs": [],
   "source": [
    "1. for Loop\n",
    "The for loop is used when you want to iterate over a sequence of elements (like a list, tuple, string, or range). It is particularly useful when you know the number of iterations or you are working with an iterable object."
   ]
  },
  {
   "cell_type": "code",
   "execution_count": 31,
   "id": "a47421a0-890f-4466-b7f4-2d246b42ec27",
   "metadata": {},
   "outputs": [
    {
     "name": "stdout",
     "output_type": "stream",
     "text": [
      "apple\n",
      "banana\n",
      "cherry\n"
     ]
    }
   ],
   "source": [
    "fruits = [\"apple\", \"banana\", \"cherry\"]\n",
    "for fruit in fruits:\n",
    "    print(fruit)\n"
   ]
  },
  {
   "cell_type": "code",
   "execution_count": null,
   "id": "bfc4796b-10e0-4800-b0ac-a7fb4db792b3",
   "metadata": {},
   "outputs": [],
   "source": [
    "2. while Loop\n",
    "The while loop is used when you want to repeat a block of code as long as a certain condition is True. It is useful when you don't know in advance how many times the loop should run, but you have a condition that determines when to stop."
   ]
  },
  {
   "cell_type": "code",
   "execution_count": 32,
   "id": "eaf96236-cebc-4cf4-a9a2-40f44ec01139",
   "metadata": {},
   "outputs": [
    {
     "name": "stdout",
     "output_type": "stream",
     "text": [
      "0\n",
      "1\n",
      "2\n",
      "3\n",
      "4\n"
     ]
    }
   ],
   "source": [
    "count = 0\n",
    "while count < 5:\n",
    "    print(count)\n",
    "    count += 1  # Increment the counter\n"
   ]
  },
  {
   "cell_type": "code",
   "execution_count": null,
   "id": "7ee115ce-30d6-44d9-a8c7-87f6556268b7",
   "metadata": {},
   "outputs": [],
   "source": [
    "3. Nested Loops\n",
    "A nested loop is a loop inside another loop. This is useful when dealing with multidimensional data structures (like lists of lists, matrices, etc.), or when you need to perform more complex iteration."
   ]
  },
  {
   "cell_type": "code",
   "execution_count": 33,
   "id": "95310858-f017-475b-9eeb-5b43aea362d8",
   "metadata": {},
   "outputs": [
    {
     "name": "stdout",
     "output_type": "stream",
     "text": [
      "1 2 3 \n",
      "4 5 6 \n",
      "7 8 9 \n"
     ]
    }
   ],
   "source": [
    "matrix = [\n",
    "    [1, 2, 3],\n",
    "    [4, 5, 6],\n",
    "    [7, 8, 9]\n",
    "]\n",
    "\n",
    "for row in matrix:\n",
    "    for element in row:\n",
    "        print(element, end=\" \")\n",
    "    print()  # Move to the next line after each row\n",
    "\n"
   ]
  },
  {
   "cell_type": "code",
   "execution_count": null,
   "id": "f933af04-667f-40ef-acef-01791c6d7cd6",
   "metadata": {},
   "outputs": [],
   "source": []
  }
 ],
 "metadata": {
  "kernelspec": {
   "display_name": "Python 3 (ipykernel)",
   "language": "python",
   "name": "python3"
  },
  "language_info": {
   "codemirror_mode": {
    "name": "ipython",
    "version": 3
   },
   "file_extension": ".py",
   "mimetype": "text/x-python",
   "name": "python",
   "nbconvert_exporter": "python",
   "pygments_lexer": "ipython3",
   "version": "3.13.0"
  }
 },
 "nbformat": 4,
 "nbformat_minor": 5
}
